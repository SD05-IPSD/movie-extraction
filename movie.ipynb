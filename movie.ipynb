{
  "nbformat": 4,
  "nbformat_minor": 0,
  "metadata": {
    "colab": {
      "provenance": []
    },
    "kernelspec": {
      "name": "python3",
      "display_name": "Python 3"
    },
    "language_info": {
      "name": "python"
    }
  },
  "cells": [
    {
      "cell_type": "markdown",
      "source": [
        "upload hasil extract into ur own drive. pastikan upload di satu account yang sama dengan colab. Misal, kalo selama ini running colab pake account agung123@gmail.com, ya berarti up drive nya account yang sama. abis itu running code berikut ini"
      ],
      "metadata": {
        "id": "AD531t0fs4dd"
      }
    },
    {
      "cell_type": "code",
      "execution_count": 112,
      "metadata": {
        "colab": {
          "base_uri": "https://localhost:8080/"
        },
        "id": "YQSC8zb-sENE",
        "outputId": "d76aec09-617d-4bc8-c205-07fd9ebe128c"
      },
      "outputs": [
        {
          "output_type": "stream",
          "name": "stdout",
          "text": [
            "Drive already mounted at /content/drive; to attempt to forcibly remount, call drive.mount(\"/content/drive\", force_remount=True).\n"
          ]
        }
      ],
      "source": [
        "from google.colab import drive\n",
        "\n",
        "drive.mount('/content/drive')"
      ]
    },
    {
      "cell_type": "markdown",
      "source": [
        "pastikan seluruh permission activate ya, semua di checklist. path base drive itu ada di\n",
        "\n",
        "`drive/MyDrive/...`\n",
        "\n",
        "abis itu, karena datanya masih dalam format html, yang artinya we must crawling it firstly, then u should import the html so we can do the crwaling\n"
      ],
      "metadata": {
        "id": "5pKCUyv5tccV"
      }
    },
    {
      "cell_type": "code",
      "source": [
        "actors = '/content/drive/MyDrive/movie/data/actors.html'\n",
        "awards = '/content/drive/MyDrive/movie/data/awtypes.html'\n",
        "casts = '/content/drive/MyDrive/movie/data/casts.html'\n",
        "locales = '/content/drive/MyDrive/movie/data/locales.html'\n",
        "main = '/content/drive/MyDrive/movie/data/main.html'\n",
        "people = '/content/drive/MyDrive/movie/data/people.html'\n",
        "quotes = '/content/drive/MyDrive/movie/data/quotes.html'\n",
        "remakes = '/content/drive/MyDrive/movie/data/remakes.html'\n",
        "studios = '/content/drive/MyDrive/movie/data/studios.html'\n",
        "synonyms = '/content/drive/MyDrive/movie/data/synonyms.html'"
      ],
      "metadata": {
        "id": "9oF8D-2ttVX5"
      },
      "execution_count": 113,
      "outputs": []
    },
    {
      "cell_type": "markdown",
      "source": [
        "nah abis itu kita bisa crawling data nya deh. pertama import dulu library yang perlu dipake, but if u havent install the library, u should do this"
      ],
      "metadata": {
        "id": "ARi-19MPvBOm"
      }
    },
    {
      "cell_type": "code",
      "source": [
        "!pip install -q beautifulsoup4"
      ],
      "metadata": {
        "id": "nuIvcjA3yPQN"
      },
      "execution_count": 114,
      "outputs": []
    },
    {
      "cell_type": "code",
      "source": [
        "import pandas as pd\n",
        "from bs4 import BeautifulSoup\n",
        "import re"
      ],
      "metadata": {
        "id": "rz79bRleu__8"
      },
      "execution_count": 115,
      "outputs": []
    },
    {
      "cell_type": "markdown",
      "source": [
        "abis itu bisa masukin code ini"
      ],
      "metadata": {
        "id": "dgXlzhTdykmL"
      }
    },
    {
      "cell_type": "code",
      "source": [
        "'''\n",
        "disini pertama buka dulu file html nya, abis itu baru panggil library beautifulsoupnya.\n",
        "abis itu buat list yang nyimpen hasil extraction nya\n",
        "'''\n",
        "\n",
        "with open(actors, 'r', encoding='utf-8') as file:\n",
        "    actors_html = file.read()\n",
        "\n",
        "soup = BeautifulSoup(actors_html, 'html.parser')\n",
        "tables_actors = soup.find_all('table')\n",
        "actors_data = []"
      ],
      "metadata": {
        "id": "aIWkAoPhyhq3"
      },
      "execution_count": 116,
      "outputs": []
    },
    {
      "cell_type": "markdown",
      "source": [
        "## Actors"
      ],
      "metadata": {
        "id": "Bks8PaiczJTg"
      }
    },
    {
      "cell_type": "code",
      "source": [
        "for table in tables_actors:\n",
        "    rows = table.find_all('tr')[1:]\n",
        "\n",
        "    for row in rows:\n",
        "        columns = str(row).split('<td>')\n",
        "\n",
        "        if len(columns) > 1:\n",
        "            row_data = [re.sub(r'<.*?>', '', col).strip() for col in columns[1:]]\n",
        "\n",
        "            if len(row_data) >= 11:\n",
        "                actor_data = {\n",
        "                    'stage': row_data[0],\n",
        "                    'dow': row_data[1],\n",
        "                    'birth': row_data[2],\n",
        "                    'giv': row_data[3],\n",
        "                    'gen': row_data[4],\n",
        "                    'dob': row_data[5],\n",
        "                    'dod': row_data[6],\n",
        "                    'type': row_data[7],\n",
        "                    'orig': row_data[8],\n",
        "                    'pic': row_data[9],\n",
        "                    'notes': row_data[10].strip().removesuffix('|').strip()\n",
        "                }\n",
        "                actors_data.append(actor_data)"
      ],
      "metadata": {
        "id": "X8-1SEKdydcT"
      },
      "execution_count": 117,
      "outputs": []
    },
    {
      "cell_type": "code",
      "source": [
        "df_actors = pd.DataFrame(actors_data)"
      ],
      "metadata": {
        "id": "hw_oZg6M0OGd"
      },
      "execution_count": 118,
      "outputs": []
    },
    {
      "cell_type": "code",
      "source": [
        "df_actors.head()"
      ],
      "metadata": {
        "colab": {
          "base_uri": "https://localhost:8080/",
          "height": 206
        },
        "id": "ovflCF431PD4",
        "outputId": "0445edb5-c3d7-40ee-f0f4-dca768e8b3dd"
      },
      "execution_count": 119,
      "outputs": [
        {
          "output_type": "execute_result",
          "data": {
            "text/plain": [
              "            stage        dow   birth      giv gen      dob   dod  \\\n",
              "0    Willie Aames              Aames  William   M     1960  199x   \n",
              "1      Bud Abbott  1939-1956  Abbott  William   M     1895  1974   \n",
              "2  Diahnne Abbott  1976-1982                    F  [1][23]  199x   \n",
              "3   George Abbott  1928-1958  Abbott   George   M     1887  199x   \n",
              "4     John Abbott  1937-1975  Abbott     John   M     1905  199x   \n",
              "\n",
              "                              type      orig  pic                      notes  \n",
              "0                              RU:       \\Am                                  \n",
              "1                       R:straight  comedian  \\Am                             \n",
              "2                           R:sexy       \\Am       Cit(2) Mt(Robert deNiro;)  \n",
              "3           R:playwright, producer       \\Am                                  \n",
              "4  R:staring eyes, eccentric parts       \\Br                                  "
            ],
            "text/html": [
              "\n",
              "  <div id=\"df-b12f966b-a5a6-459c-8922-31b6dc15c539\" class=\"colab-df-container\">\n",
              "    <div>\n",
              "<style scoped>\n",
              "    .dataframe tbody tr th:only-of-type {\n",
              "        vertical-align: middle;\n",
              "    }\n",
              "\n",
              "    .dataframe tbody tr th {\n",
              "        vertical-align: top;\n",
              "    }\n",
              "\n",
              "    .dataframe thead th {\n",
              "        text-align: right;\n",
              "    }\n",
              "</style>\n",
              "<table border=\"1\" class=\"dataframe\">\n",
              "  <thead>\n",
              "    <tr style=\"text-align: right;\">\n",
              "      <th></th>\n",
              "      <th>stage</th>\n",
              "      <th>dow</th>\n",
              "      <th>birth</th>\n",
              "      <th>giv</th>\n",
              "      <th>gen</th>\n",
              "      <th>dob</th>\n",
              "      <th>dod</th>\n",
              "      <th>type</th>\n",
              "      <th>orig</th>\n",
              "      <th>pic</th>\n",
              "      <th>notes</th>\n",
              "    </tr>\n",
              "  </thead>\n",
              "  <tbody>\n",
              "    <tr>\n",
              "      <th>0</th>\n",
              "      <td>Willie Aames</td>\n",
              "      <td></td>\n",
              "      <td>Aames</td>\n",
              "      <td>William</td>\n",
              "      <td>M</td>\n",
              "      <td>1960</td>\n",
              "      <td>199x</td>\n",
              "      <td>RU:</td>\n",
              "      <td>\\Am</td>\n",
              "      <td></td>\n",
              "      <td></td>\n",
              "    </tr>\n",
              "    <tr>\n",
              "      <th>1</th>\n",
              "      <td>Bud Abbott</td>\n",
              "      <td>1939-1956</td>\n",
              "      <td>Abbott</td>\n",
              "      <td>William</td>\n",
              "      <td>M</td>\n",
              "      <td>1895</td>\n",
              "      <td>1974</td>\n",
              "      <td>R:straight</td>\n",
              "      <td>comedian</td>\n",
              "      <td>\\Am</td>\n",
              "      <td></td>\n",
              "    </tr>\n",
              "    <tr>\n",
              "      <th>2</th>\n",
              "      <td>Diahnne Abbott</td>\n",
              "      <td>1976-1982</td>\n",
              "      <td></td>\n",
              "      <td></td>\n",
              "      <td>F</td>\n",
              "      <td>[1][23]</td>\n",
              "      <td>199x</td>\n",
              "      <td>R:sexy</td>\n",
              "      <td>\\Am</td>\n",
              "      <td></td>\n",
              "      <td>Cit(2) Mt(Robert deNiro;)</td>\n",
              "    </tr>\n",
              "    <tr>\n",
              "      <th>3</th>\n",
              "      <td>George Abbott</td>\n",
              "      <td>1928-1958</td>\n",
              "      <td>Abbott</td>\n",
              "      <td>George</td>\n",
              "      <td>M</td>\n",
              "      <td>1887</td>\n",
              "      <td>199x</td>\n",
              "      <td>R:playwright, producer</td>\n",
              "      <td>\\Am</td>\n",
              "      <td></td>\n",
              "      <td></td>\n",
              "    </tr>\n",
              "    <tr>\n",
              "      <th>4</th>\n",
              "      <td>John Abbott</td>\n",
              "      <td>1937-1975</td>\n",
              "      <td>Abbott</td>\n",
              "      <td>John</td>\n",
              "      <td>M</td>\n",
              "      <td>1905</td>\n",
              "      <td>199x</td>\n",
              "      <td>R:staring eyes, eccentric parts</td>\n",
              "      <td>\\Br</td>\n",
              "      <td></td>\n",
              "      <td></td>\n",
              "    </tr>\n",
              "  </tbody>\n",
              "</table>\n",
              "</div>\n",
              "    <div class=\"colab-df-buttons\">\n",
              "\n",
              "  <div class=\"colab-df-container\">\n",
              "    <button class=\"colab-df-convert\" onclick=\"convertToInteractive('df-b12f966b-a5a6-459c-8922-31b6dc15c539')\"\n",
              "            title=\"Convert this dataframe to an interactive table.\"\n",
              "            style=\"display:none;\">\n",
              "\n",
              "  <svg xmlns=\"http://www.w3.org/2000/svg\" height=\"24px\" viewBox=\"0 -960 960 960\">\n",
              "    <path d=\"M120-120v-720h720v720H120Zm60-500h600v-160H180v160Zm220 220h160v-160H400v160Zm0 220h160v-160H400v160ZM180-400h160v-160H180v160Zm440 0h160v-160H620v160ZM180-180h160v-160H180v160Zm440 0h160v-160H620v160Z\"/>\n",
              "  </svg>\n",
              "    </button>\n",
              "\n",
              "  <style>\n",
              "    .colab-df-container {\n",
              "      display:flex;\n",
              "      gap: 12px;\n",
              "    }\n",
              "\n",
              "    .colab-df-convert {\n",
              "      background-color: #E8F0FE;\n",
              "      border: none;\n",
              "      border-radius: 50%;\n",
              "      cursor: pointer;\n",
              "      display: none;\n",
              "      fill: #1967D2;\n",
              "      height: 32px;\n",
              "      padding: 0 0 0 0;\n",
              "      width: 32px;\n",
              "    }\n",
              "\n",
              "    .colab-df-convert:hover {\n",
              "      background-color: #E2EBFA;\n",
              "      box-shadow: 0px 1px 2px rgba(60, 64, 67, 0.3), 0px 1px 3px 1px rgba(60, 64, 67, 0.15);\n",
              "      fill: #174EA6;\n",
              "    }\n",
              "\n",
              "    .colab-df-buttons div {\n",
              "      margin-bottom: 4px;\n",
              "    }\n",
              "\n",
              "    [theme=dark] .colab-df-convert {\n",
              "      background-color: #3B4455;\n",
              "      fill: #D2E3FC;\n",
              "    }\n",
              "\n",
              "    [theme=dark] .colab-df-convert:hover {\n",
              "      background-color: #434B5C;\n",
              "      box-shadow: 0px 1px 3px 1px rgba(0, 0, 0, 0.15);\n",
              "      filter: drop-shadow(0px 1px 2px rgba(0, 0, 0, 0.3));\n",
              "      fill: #FFFFFF;\n",
              "    }\n",
              "  </style>\n",
              "\n",
              "    <script>\n",
              "      const buttonEl =\n",
              "        document.querySelector('#df-b12f966b-a5a6-459c-8922-31b6dc15c539 button.colab-df-convert');\n",
              "      buttonEl.style.display =\n",
              "        google.colab.kernel.accessAllowed ? 'block' : 'none';\n",
              "\n",
              "      async function convertToInteractive(key) {\n",
              "        const element = document.querySelector('#df-b12f966b-a5a6-459c-8922-31b6dc15c539');\n",
              "        const dataTable =\n",
              "          await google.colab.kernel.invokeFunction('convertToInteractive',\n",
              "                                                    [key], {});\n",
              "        if (!dataTable) return;\n",
              "\n",
              "        const docLinkHtml = 'Like what you see? Visit the ' +\n",
              "          '<a target=\"_blank\" href=https://colab.research.google.com/notebooks/data_table.ipynb>data table notebook</a>'\n",
              "          + ' to learn more about interactive tables.';\n",
              "        element.innerHTML = '';\n",
              "        dataTable['output_type'] = 'display_data';\n",
              "        await google.colab.output.renderOutput(dataTable, element);\n",
              "        const docLink = document.createElement('div');\n",
              "        docLink.innerHTML = docLinkHtml;\n",
              "        element.appendChild(docLink);\n",
              "      }\n",
              "    </script>\n",
              "  </div>\n",
              "\n",
              "\n",
              "    <div id=\"df-fe09cf40-bfcb-4163-b8d5-6eea2d3e0b1b\">\n",
              "      <button class=\"colab-df-quickchart\" onclick=\"quickchart('df-fe09cf40-bfcb-4163-b8d5-6eea2d3e0b1b')\"\n",
              "                title=\"Suggest charts\"\n",
              "                style=\"display:none;\">\n",
              "\n",
              "<svg xmlns=\"http://www.w3.org/2000/svg\" height=\"24px\"viewBox=\"0 0 24 24\"\n",
              "     width=\"24px\">\n",
              "    <g>\n",
              "        <path d=\"M19 3H5c-1.1 0-2 .9-2 2v14c0 1.1.9 2 2 2h14c1.1 0 2-.9 2-2V5c0-1.1-.9-2-2-2zM9 17H7v-7h2v7zm4 0h-2V7h2v10zm4 0h-2v-4h2v4z\"/>\n",
              "    </g>\n",
              "</svg>\n",
              "      </button>\n",
              "\n",
              "<style>\n",
              "  .colab-df-quickchart {\n",
              "      --bg-color: #E8F0FE;\n",
              "      --fill-color: #1967D2;\n",
              "      --hover-bg-color: #E2EBFA;\n",
              "      --hover-fill-color: #174EA6;\n",
              "      --disabled-fill-color: #AAA;\n",
              "      --disabled-bg-color: #DDD;\n",
              "  }\n",
              "\n",
              "  [theme=dark] .colab-df-quickchart {\n",
              "      --bg-color: #3B4455;\n",
              "      --fill-color: #D2E3FC;\n",
              "      --hover-bg-color: #434B5C;\n",
              "      --hover-fill-color: #FFFFFF;\n",
              "      --disabled-bg-color: #3B4455;\n",
              "      --disabled-fill-color: #666;\n",
              "  }\n",
              "\n",
              "  .colab-df-quickchart {\n",
              "    background-color: var(--bg-color);\n",
              "    border: none;\n",
              "    border-radius: 50%;\n",
              "    cursor: pointer;\n",
              "    display: none;\n",
              "    fill: var(--fill-color);\n",
              "    height: 32px;\n",
              "    padding: 0;\n",
              "    width: 32px;\n",
              "  }\n",
              "\n",
              "  .colab-df-quickchart:hover {\n",
              "    background-color: var(--hover-bg-color);\n",
              "    box-shadow: 0 1px 2px rgba(60, 64, 67, 0.3), 0 1px 3px 1px rgba(60, 64, 67, 0.15);\n",
              "    fill: var(--button-hover-fill-color);\n",
              "  }\n",
              "\n",
              "  .colab-df-quickchart-complete:disabled,\n",
              "  .colab-df-quickchart-complete:disabled:hover {\n",
              "    background-color: var(--disabled-bg-color);\n",
              "    fill: var(--disabled-fill-color);\n",
              "    box-shadow: none;\n",
              "  }\n",
              "\n",
              "  .colab-df-spinner {\n",
              "    border: 2px solid var(--fill-color);\n",
              "    border-color: transparent;\n",
              "    border-bottom-color: var(--fill-color);\n",
              "    animation:\n",
              "      spin 1s steps(1) infinite;\n",
              "  }\n",
              "\n",
              "  @keyframes spin {\n",
              "    0% {\n",
              "      border-color: transparent;\n",
              "      border-bottom-color: var(--fill-color);\n",
              "      border-left-color: var(--fill-color);\n",
              "    }\n",
              "    20% {\n",
              "      border-color: transparent;\n",
              "      border-left-color: var(--fill-color);\n",
              "      border-top-color: var(--fill-color);\n",
              "    }\n",
              "    30% {\n",
              "      border-color: transparent;\n",
              "      border-left-color: var(--fill-color);\n",
              "      border-top-color: var(--fill-color);\n",
              "      border-right-color: var(--fill-color);\n",
              "    }\n",
              "    40% {\n",
              "      border-color: transparent;\n",
              "      border-right-color: var(--fill-color);\n",
              "      border-top-color: var(--fill-color);\n",
              "    }\n",
              "    60% {\n",
              "      border-color: transparent;\n",
              "      border-right-color: var(--fill-color);\n",
              "    }\n",
              "    80% {\n",
              "      border-color: transparent;\n",
              "      border-right-color: var(--fill-color);\n",
              "      border-bottom-color: var(--fill-color);\n",
              "    }\n",
              "    90% {\n",
              "      border-color: transparent;\n",
              "      border-bottom-color: var(--fill-color);\n",
              "    }\n",
              "  }\n",
              "</style>\n",
              "\n",
              "      <script>\n",
              "        async function quickchart(key) {\n",
              "          const quickchartButtonEl =\n",
              "            document.querySelector('#' + key + ' button');\n",
              "          quickchartButtonEl.disabled = true;  // To prevent multiple clicks.\n",
              "          quickchartButtonEl.classList.add('colab-df-spinner');\n",
              "          try {\n",
              "            const charts = await google.colab.kernel.invokeFunction(\n",
              "                'suggestCharts', [key], {});\n",
              "          } catch (error) {\n",
              "            console.error('Error during call to suggestCharts:', error);\n",
              "          }\n",
              "          quickchartButtonEl.classList.remove('colab-df-spinner');\n",
              "          quickchartButtonEl.classList.add('colab-df-quickchart-complete');\n",
              "        }\n",
              "        (() => {\n",
              "          let quickchartButtonEl =\n",
              "            document.querySelector('#df-fe09cf40-bfcb-4163-b8d5-6eea2d3e0b1b button');\n",
              "          quickchartButtonEl.style.display =\n",
              "            google.colab.kernel.accessAllowed ? 'block' : 'none';\n",
              "        })();\n",
              "      </script>\n",
              "    </div>\n",
              "\n",
              "    </div>\n",
              "  </div>\n"
            ],
            "application/vnd.google.colaboratory.intrinsic+json": {
              "type": "dataframe",
              "variable_name": "df_actors",
              "summary": "{\n  \"name\": \"df_actors\",\n  \"rows\": 6825,\n  \"fields\": [\n    {\n      \"column\": \"stage\",\n      \"properties\": {\n        \"dtype\": \"string\",\n        \"num_unique_values\": 6796,\n        \"samples\": [\n          \"Wallace Shaen\",\n          \"Spring Byington\",\n          \"Peggy Ann Garner\"\n        ],\n        \"semantic_type\": \"\",\n        \"description\": \"\"\n      }\n    },\n    {\n      \"column\": \"dow\",\n      \"properties\": {\n        \"dtype\": \"category\",\n        \"num_unique_values\": 2049,\n        \"samples\": [\n          \"1948-1954\",\n          \"1925-1962\",\n          \"1955-1988\"\n        ],\n        \"semantic_type\": \"\",\n        \"description\": \"\"\n      }\n    },\n    {\n      \"column\": \"birth\",\n      \"properties\": {\n        \"dtype\": \"category\",\n        \"num_unique_values\": 3363,\n        \"samples\": [\n          \"Freeman\",\n          \"Oulton\",\n          \"Girard\"\n        ],\n        \"semantic_type\": \"\",\n        \"description\": \"\"\n      }\n    },\n    {\n      \"column\": \"giv\",\n      \"properties\": {\n        \"dtype\": \"category\",\n        \"num_unique_values\": 2007,\n        \"samples\": [\n          \"Cindy\",\n          \"D.A.\",\n          \"Faith\"\n        ],\n        \"semantic_type\": \"\",\n        \"description\": \"\"\n      }\n    },\n    {\n      \"column\": \"gen\",\n      \"properties\": {\n        \"dtype\": \"category\",\n        \"num_unique_values\": 30,\n        \"samples\": [\n          \"N\",\n          \"Ff\",\n          \"Anna\"\n        ],\n        \"semantic_type\": \"\",\n        \"description\": \"\"\n      }\n    },\n    {\n      \"column\": \"dob\",\n      \"properties\": {\n        \"dtype\": \"category\",\n        \"num_unique_values\": 176,\n        \"samples\": [\n          \"1915\",\n          \"1939\",\n          \"1977\"\n        ],\n        \"semantic_type\": \"\",\n        \"description\": \"\"\n      }\n    },\n    {\n      \"column\": \"dod\",\n      \"properties\": {\n        \"dtype\": \"category\",\n        \"num_unique_values\": 117,\n        \"samples\": [\n          \"1975\",\n          \"1982\",\n          \"\\\\Und\"\n        ],\n        \"semantic_type\": \"\",\n        \"description\": \"\"\n      }\n    },\n    {\n      \"column\": \"type\",\n      \"properties\": {\n        \"dtype\": \"category\",\n        \"num_unique_values\": 1914,\n        \"samples\": [\n          \"R:burly, evil-faced\",\n          \"R:dominant comedy\",\n          \"R:juror\"\n        ],\n        \"semantic_type\": \"\",\n        \"description\": \"\"\n      }\n    },\n    {\n      \"column\": \"orig\",\n      \"properties\": {\n        \"dtype\": \"category\",\n        \"num_unique_values\": 178,\n        \"samples\": [\n          \"\\\\Au\",\n          \"\\\\Os terreich\",\n          \"R:malicious, cute\"\n        ],\n        \"semantic_type\": \"\",\n        \"description\": \"\"\n      }\n    },\n    {\n      \"column\": \"pic\",\n      \"properties\": {\n        \"dtype\": \"category\",\n        \"num_unique_values\": 492,\n        \"samples\": [\n          \"[9.163]\",\n          \"[4.597]\",\n          \"Mt(Dan Donovan, Jim Kerr)\"\n        ],\n        \"semantic_type\": \"\",\n        \"description\": \"\"\n      }\n    },\n    {\n      \"column\": \"notes\",\n      \"properties\": {\n        \"dtype\": \"category\",\n        \"num_unique_values\": 1014,\n        \"samples\": [\n          \"Mt(Leslie Mansville, Uma Thurman)\",\n          \"Mt(Roger Livesey)\",\n          \"Ch(Charlie Chaplin)\"\n        ],\n        \"semantic_type\": \"\",\n        \"description\": \"\"\n      }\n    }\n  ]\n}"
            }
          },
          "metadata": {},
          "execution_count": 119
        }
      ]
    },
    {
      "cell_type": "code",
      "source": [
        "df_actors.to_csv('actors.csv', index=False, encoding='utf-8')"
      ],
      "metadata": {
        "id": "IbMgs-Vc0k3e"
      },
      "execution_count": 120,
      "outputs": []
    },
    {
      "cell_type": "markdown",
      "source": [
        "## Awards"
      ],
      "metadata": {
        "id": "ZSMMl9BX4ILb"
      }
    },
    {
      "cell_type": "code",
      "source": [
        "with open(awards, 'r', encoding='utf-8') as file:\n",
        "    awards_html = file.read()\n",
        "\n",
        "soup = BeautifulSoup(awards_html, 'html.parser')\n",
        "table_awards = soup.find('table')\n",
        "awards_data = []"
      ],
      "metadata": {
        "id": "BNGuPxEh0mWI"
      },
      "execution_count": 121,
      "outputs": []
    },
    {
      "cell_type": "code",
      "source": [
        "if table_awards:\n",
        "    rows = table_awards.find_all('tr')[1:]\n",
        "\n",
        "    for row in rows:\n",
        "        columns = str(row).split('<td>')\n",
        "\n",
        "        if len(columns) > 1:\n",
        "            row_data = [re.sub(r'<.*?>', '', col).strip() for col in columns[1:]]\n",
        "\n",
        "            if len(row_data) >= 6:\n",
        "                award_info = {\n",
        "                    'award': row_data[0],\n",
        "                    'awarding_organization': row_data[1],\n",
        "                    'Country': row_data[2],\n",
        "                    'colloquial': row_data[3],\n",
        "                    'year': row_data[4],\n",
        "                    'notes': row_data[5].removesuffix('|').strip()\n",
        "                }\n",
        "                awards_data.append(award_info)"
      ],
      "metadata": {
        "id": "ykLK21HF4fLv"
      },
      "execution_count": 122,
      "outputs": []
    },
    {
      "cell_type": "code",
      "source": [
        "df_awards = pd.DataFrame(awards_data)"
      ],
      "metadata": {
        "id": "1XtJh3vk4yiX"
      },
      "execution_count": 123,
      "outputs": []
    },
    {
      "cell_type": "code",
      "source": [
        "df_awards.to_csv('awards.csv', index=False, encoding='utf-8')"
      ],
      "metadata": {
        "id": "pvAkOwti5DF6"
      },
      "execution_count": 124,
      "outputs": []
    },
    {
      "cell_type": "markdown",
      "source": [
        "## Cast (skip dulu table formatnya ga jelas)"
      ],
      "metadata": {
        "id": "MM9B87E75KLJ"
      }
    },
    {
      "cell_type": "markdown",
      "source": [
        "## Locales"
      ],
      "metadata": {
        "id": "ufGQmM4i_L96"
      }
    },
    {
      "cell_type": "code",
      "source": [
        "with open(locales, 'r', encoding='latin-1') as file:\n",
        "    locales_html = file.read()\n",
        "\n",
        "soup = BeautifulSoup(locales_html, 'html.parser')\n",
        "table = soup.find('table')\n",
        "locales_data = []"
      ],
      "metadata": {
        "id": "UrBWAsPy-1MP"
      },
      "execution_count": 125,
      "outputs": []
    },
    {
      "cell_type": "code",
      "source": [
        "if table:\n",
        "    rows = table.find_all('tr')[1:]\n",
        "\n",
        "    for row in rows:\n",
        "        columns = str(row).split('<td>')\n",
        "\n",
        "        if len(columns) >= 3:\n",
        "            code = re.sub('<.*?>', '', columns[1]).strip()\n",
        "            description = re.sub('<.*?>', '', columns[2]).strip().removesuffix('|').strip()\n",
        "\n",
        "            locales_data.append({\n",
        "                'code': code,\n",
        "                'description': description\n",
        "            })"
      ],
      "metadata": {
        "id": "nAarovMc_y3_"
      },
      "execution_count": 126,
      "outputs": []
    },
    {
      "cell_type": "code",
      "source": [
        "df_locales = pd.DataFrame(locales_data)"
      ],
      "metadata": {
        "id": "5jB9uOts_3Cj"
      },
      "execution_count": 127,
      "outputs": []
    },
    {
      "cell_type": "code",
      "source": [
        "df_locales.to_csv('locales.csv', index=False, encoding='utf-8')"
      ],
      "metadata": {
        "id": "hlj2xP-vAH3m"
      },
      "execution_count": 128,
      "outputs": []
    },
    {
      "cell_type": "markdown",
      "source": [
        "## Main (skip juga rada ribet soalnya)"
      ],
      "metadata": {
        "id": "IH5w-FF5AOMR"
      }
    },
    {
      "cell_type": "markdown",
      "source": [
        "## People (skip dulu header nya nyusahin)"
      ],
      "metadata": {
        "id": "XXUB8uK6ByST"
      }
    },
    {
      "cell_type": "markdown",
      "source": [
        "## Quotes"
      ],
      "metadata": {
        "id": "p244J_gSDlFl"
      }
    },
    {
      "cell_type": "code",
      "source": [
        "with open(quotes, 'r', encoding='latin-1') as file:\n",
        "    html_content = file.read()\n",
        "\n",
        "soup = BeautifulSoup(html_content, 'html.parser')\n",
        "table = soup.find('table')\n",
        "quotes_data = []"
      ],
      "metadata": {
        "id": "3o8wRlWiCImM"
      },
      "execution_count": 129,
      "outputs": []
    },
    {
      "cell_type": "code",
      "source": [
        "if table:\n",
        "    rows = table.find_all('tr')[1:]\n",
        "\n",
        "    for row in rows:\n",
        "        columns = str(row).split('<td>')\n",
        "\n",
        "        if len(columns) >= 5:\n",
        "            quote = re.sub('<.*?>', '', columns[1]).strip()\n",
        "            actor = re.sub('<.*?>', '', columns[2]).strip()\n",
        "            movie = re.sub('<.*?>', '', columns[3]).strip()\n",
        "            year = re.sub('<.*?>', '', columns[4]).strip()\n",
        "\n",
        "            quotes_data.append({\n",
        "                'quote': quote,\n",
        "                'actor': actor,\n",
        "                'movie': movie,\n",
        "                'year': year\n",
        "            })"
      ],
      "metadata": {
        "id": "kKBwo6BBD5oJ"
      },
      "execution_count": 130,
      "outputs": []
    },
    {
      "cell_type": "code",
      "source": [
        "df_quotes = pd.DataFrame(quotes_data)"
      ],
      "metadata": {
        "id": "KsLyneh8D8Dn"
      },
      "execution_count": 131,
      "outputs": []
    },
    {
      "cell_type": "code",
      "source": [
        "df_quotes.to_csv('quotes.csv', index=False, encoding='utf-8')"
      ],
      "metadata": {
        "id": "ABtklB-rD-YL"
      },
      "execution_count": 132,
      "outputs": []
    },
    {
      "cell_type": "markdown",
      "source": [
        "## Remakes (skip dulu header nya jg nyusahin)"
      ],
      "metadata": {
        "id": "jDtL21zVFRed"
      }
    },
    {
      "cell_type": "markdown",
      "source": [
        "## Synonyms"
      ],
      "metadata": {
        "id": "EGJFV8FDFvvo"
      }
    },
    {
      "cell_type": "code",
      "source": [],
      "metadata": {
        "id": "TEKuIeYgF7uU"
      },
      "execution_count": 136,
      "outputs": []
    }
  ]
}